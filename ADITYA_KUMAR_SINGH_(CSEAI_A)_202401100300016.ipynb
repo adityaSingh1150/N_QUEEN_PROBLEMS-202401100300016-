{
  "nbformat": 4,
  "nbformat_minor": 0,
  "metadata": {
    "colab": {
      "provenance": []
    },
    "kernelspec": {
      "name": "python3",
      "display_name": "Python 3"
    },
    "language_info": {
      "name": "python"
    }
  },
  "cells": [
    {
      "cell_type": "code",
      "execution_count": 3,
      "metadata": {
        "colab": {
          "base_uri": "https://localhost:8080/"
        },
        "id": "YCy22tX6jos8",
        "outputId": "7a8b844e-0e04-48c3-edd1-434a1375a863"
      },
      "outputs": [
        {
          "output_type": "stream",
          "name": "stdout",
          "text": [
            "_ _ Q _\n",
            "Q _ _ _\n",
            "_ _ _ Q\n",
            "_ Q _ _\n",
            "\n",
            "\n",
            "_ Q _ _\n",
            "_ _ _ Q\n",
            "Q _ _ _\n",
            "_ _ Q _\n",
            "\n",
            "\n"
          ]
        }
      ],
      "source": [
        "def print_solution(board):\n",
        "    # Print the board with 'Q' representing a queen and '_' representing an empty space\n",
        "    for row in board:\n",
        "        print(\" \".join(\"Q\" if col else \"_\" for col in row))\n",
        "    print(\"\\n\")\n",
        "\n",
        "def is_safe(board, row, col, n):\n",
        "    # Check this row on the left side\n",
        "    for i in range(col):\n",
        "        if board[row][i]:\n",
        "            return False\n",
        "\n",
        "    # Check upper diagonal on the left side\n",
        "    for i, j in zip(range(row, -1, -1), range(col, -1, -1)):\n",
        "        if board[i][j]:\n",
        "            return False\n",
        "\n",
        "    # Check lower diagonal on the left side\n",
        "    for i, j in zip(range(row, n, 1), range(col, -1, -1)):\n",
        "        if board[i][j]:\n",
        "            return False\n",
        "\n",
        "    return True\n",
        "\n",
        "def solve_n_queens_util(board, col, n):\n",
        "    # If all queens are placed, print the solution\n",
        "    if col >= n:\n",
        "        print_solution(board)\n",
        "        return True\n",
        "\n",
        "    res = False  # Flag to check if we found a solution\n",
        "    for i in range(n):\n",
        "        if is_safe(board, i, col, n):\n",
        "            # Place the queen at (i, col)\n",
        "            board[i][col] = 1\n",
        "\n",
        "            # Recursively place the rest of the queens\n",
        "            res = solve_n_queens_util(board, col + 1, n) or res\n",
        "\n",
        "            # Backtrack: Remove the queen if not a solution\n",
        "            board[i][col] = 0\n",
        "\n",
        "    return res\n",
        "\n",
        "def solve_n_queens(n):\n",
        "    # Initialize the board with all 0s (empty spaces)\n",
        "    board = [[0 for _ in range(n)] for _ in range(n)]\n",
        "\n",
        "    # Start solving from the first column\n",
        "    if not solve_n_queens_util(board, 0, n):\n",
        "        print(\"No solution exists\")\n",
        "\n",
        "# Example usage\n",
        "n = 4  # Change this value for different board sizes\n",
        "solve_n_queens(n)\n",
        "\n"
      ]
    }
  ]
}